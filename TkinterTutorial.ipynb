{
 "cells": [
  {
   "cell_type": "code",
   "execution_count": 2,
   "id": "3e9fbcef",
   "metadata": {},
   "outputs": [],
   "source": [
    "from tkinter import *"
   ]
  },
  {
   "cell_type": "markdown",
   "id": "302bc1c4",
   "metadata": {},
   "source": [
    "Python da arayüz oluşturmak için **Tkinter** kütüphanesine ihtiyaç vardır. Aşağıdaki örnekte arayüze pencere ismi verilmiştir.  **geometry()** sayesinde pencerimizin boyutunu ayarlayabiliriz."
   ]
  },
  {
   "cell_type": "code",
   "execution_count": 18,
   "id": "f0151c71",
   "metadata": {},
   "outputs": [],
   "source": [
    "pencere=Tk()\n",
    "pencere.geometry(\"400x400\")\n",
    "mainloop()"
   ]
  },
  {
   "cell_type": "markdown",
   "id": "c08bd92e",
   "metadata": {},
   "source": [
    "# Label\n",
    "**Label()** sayesinde arayüzümüze yazılar ekleyebiliriz."
   ]
  },
  {
   "cell_type": "code",
   "execution_count": 19,
   "id": "71972ae1",
   "metadata": {},
   "outputs": [],
   "source": [
    "pencere=Tk()\n",
    "\n",
    "yazi=Label(text=\"Merhaba dünya\",font=\"helvetica 12\",borderwidth=6)\n",
    "yazi.place(x=0,y=50)\n",
    "\n",
    "mainloop()"
   ]
  },
  {
   "cell_type": "markdown",
   "id": "1065a312",
   "metadata": {},
   "source": [
    "# Buton Ekleme\n",
    "**Button()** komutu sayesinde arayüzümüze butonlar ekleyebiliriz."
   ]
  },
  {
   "cell_type": "code",
   "execution_count": 21,
   "id": "4b707c59",
   "metadata": {},
   "outputs": [],
   "source": [
    "pencere=Tk()\n",
    "\n",
    "buton_ekle=Button(pencere,text=\"Seç\",font=\"helvetica 12\",borderwidth=6)\n",
    "buton_ekle.place(x=50,y=50)\n",
    "\n",
    "mainloop()"
   ]
  },
  {
   "cell_type": "markdown",
   "id": "2cd499dd",
   "metadata": {},
   "source": [
    "Şimdi de butona basmayı kontrol edebilmek için **command** ekleyelim."
   ]
  },
  {
   "cell_type": "code",
   "execution_count": 23,
   "id": "68b21b97",
   "metadata": {},
   "outputs": [
    {
     "name": "stdout",
     "output_type": "stream",
     "text": [
      "Başarılı\n",
      "Başarılı\n",
      "Başarılı\n"
     ]
    }
   ],
   "source": [
    "pencere=Tk()\n",
    "\n",
    "\n",
    "def kontrol_et():\n",
    "    print(\"Başarılı\")\n",
    "\n",
    "buton_ekle=Button(pencere,text=\"Seç\",command=kontrol_et,font=\"helvetica 12\",borderwidth=6)\n",
    "buton_ekle.place(x=50,y=50)\n",
    "\n",
    "mainloop()"
   ]
  },
  {
   "cell_type": "markdown",
   "id": "3cd02268",
   "metadata": {},
   "source": [
    "# Combobox "
   ]
  },
  {
   "cell_type": "code",
   "execution_count": 26,
   "id": "f9297a2f",
   "metadata": {},
   "outputs": [],
   "source": [
    "from tkinter.ttk import Combobox"
   ]
  },
  {
   "cell_type": "markdown",
   "id": "ebbe6945",
   "metadata": {},
   "source": [
    "Elimizde birden fazla veri ya da vs. bulunduğunda aralarından seçim yapabiliriz. İlk önce elimizdeki verileri bir liste içine\n",
    "koyuyoruz. Daha sonra **Combobox()** sayesinde liste içerisinden veri seçebiliriz."
   ]
  },
  {
   "cell_type": "code",
   "execution_count": 28,
   "id": "8f66d623",
   "metadata": {},
   "outputs": [],
   "source": [
    "pencere=Tk()\n",
    "\n",
    "liste=[\"veri1\",\"veri2\",\"veri3\"]\n",
    "\n",
    "\n",
    "combo=Combobox(pencere,values=liste)\n",
    "combo.place(x=50,y=50)\n",
    "\n",
    "mainloop()"
   ]
  },
  {
   "cell_type": "markdown",
   "id": "5d753802",
   "metadata": {},
   "source": [
    "Seçtiğimiz veriyi buton ekleyerek kontrol edelim"
   ]
  },
  {
   "cell_type": "code",
   "execution_count": 30,
   "id": "4cd94668",
   "metadata": {},
   "outputs": [
    {
     "name": "stdout",
     "output_type": "stream",
     "text": [
      "veri1 seçili\n",
      "veri2 seçili\n",
      "veri3 seçili\n"
     ]
    }
   ],
   "source": [
    "pencere=Tk()\n",
    "\n",
    "liste=[\"veri1\",\"veri2\",\"veri3\"]\n",
    "\n",
    "def kontrol_et():\n",
    "    if combo.get()==\"veri1\":\n",
    "        print(\"veri1 seçili\")\n",
    "    elif combo.get()==\"veri2\":\n",
    "        print(\"veri2 seçili\")\n",
    "    elif combo.get()==\"veri3\":\n",
    "        print(\"veri3 seçili\")\n",
    "\n",
    "combo=Combobox(pencere,values=liste)\n",
    "combo.place(x=30,y=50)\n",
    "    \n",
    "buton_ekle=Button(pencere,text=\"Seç\",command=kontrol_et,font=\"helvetica 12\",borderwidth=6)\n",
    "buton_ekle.place(x=50,y=80)\n",
    "\n",
    "\n",
    "mainloop()"
   ]
  },
  {
   "cell_type": "markdown",
   "id": "2f94020e",
   "metadata": {},
   "source": [
    "# Radiobutton"
   ]
  },
  {
   "cell_type": "markdown",
   "id": "1a5c74c0",
   "metadata": {},
   "source": [
    "Yine birden fazla seçenek arasından seçim yapma şansı tanır."
   ]
  },
  {
   "cell_type": "markdown",
   "id": "fa5a8454",
   "metadata": {},
   "source": [
    "Elimizde bulunan verileri ekrana ayrı ayrı yazdırılır. Burda seçim yapabilmek için bir değişkene ihtiyaç duyarız. **variable** a bir değişken atarız. Bu değişken, veriye atadığımız tamsayıyı tutar. Bu tam sayıyı **.get()** komutuyla kontrol edebiliriz."
   ]
  },
  {
   "cell_type": "code",
   "execution_count": 36,
   "id": "a9c29798",
   "metadata": {},
   "outputs": [
    {
     "name": "stdout",
     "output_type": "stream",
     "text": [
      "Veri2 seçili\n",
      "Veri1 seçili\n"
     ]
    }
   ],
   "source": [
    "pencere=Tk()\n",
    "\n",
    "\n",
    "def kontrol_et():\n",
    "    if var.get()==1:\n",
    "        print(\"Veri1 seçili\")\n",
    "    elif var.get()==2:\n",
    "        print(\"Veri2 seçili\")\n",
    "\n",
    "var=IntVar()\n",
    "\n",
    "radio=Radiobutton(pencere,text=\"Veri1\",variable=var,value=1)\n",
    "radio.place(x=20,y=20)\n",
    "\n",
    "radio2=Radiobutton(pencere,text=\"Veri2\",variable=var,value=2)\n",
    "radio2.place(x=20,y=40)\n",
    "\n",
    "buton_ekle=Button(pencere,text=\"Seç\",command=kontrol_et,font=\"helvetica 12\",borderwidth=6)\n",
    "buton_ekle.place(x=20,y=80)\n",
    "\n",
    "mainloop()"
   ]
  },
  {
   "cell_type": "markdown",
   "id": "6071279a",
   "metadata": {},
   "source": [
    "# Text"
   ]
  },
  {
   "cell_type": "markdown",
   "id": "9ba921a8",
   "metadata": {},
   "source": [
    "Kullanıcıdan bir girdi almak için kullanılır."
   ]
  },
  {
   "cell_type": "code",
   "execution_count": 5,
   "id": "086ac719",
   "metadata": {},
   "outputs": [],
   "source": [
    "pencere=Tk()\n",
    "\n",
    "veri_text=Text(pencere,height=1,width=20)\n",
    "veri_text.place(x=10,y=80)\n",
    "\n",
    "mainloop()"
   ]
  },
  {
   "cell_type": "markdown",
   "id": "bd257426",
   "metadata": {},
   "source": [
    "Şimdide kullanıcıdan aldığı girdiyi okuyalım ve konsolda gösterelim."
   ]
  },
  {
   "cell_type": "code",
   "execution_count": 10,
   "id": "0cd37b8e",
   "metadata": {},
   "outputs": [
    {
     "name": "stdout",
     "output_type": "stream",
     "text": [
      "yasin\n",
      "YASİN\n"
     ]
    }
   ],
   "source": [
    "pencere=Tk()\n",
    "\n",
    "def girdi_al():\n",
    "    mesaj=veri_text.get(\"1.0\",\"end-1c\")\n",
    "    print(mesaj)\n",
    "\n",
    "\n",
    "veri_text=Text(pencere,height=1,width=20)\n",
    "veri_text.place(x=10,y=60)\n",
    "\n",
    "buton_ekle=Button(pencere,text=\"Onayla\",command=girdi_al)\n",
    "buton_ekle.place(x=10,y=80)\n",
    "\n",
    "mainloop()"
   ]
  },
  {
   "cell_type": "markdown",
   "id": "3b21da94",
   "metadata": {},
   "source": [
    "# Messagebox"
   ]
  },
  {
   "cell_type": "code",
   "execution_count": 16,
   "id": "924caf0e",
   "metadata": {},
   "outputs": [],
   "source": [
    "from tkinter import messagebox"
   ]
  },
  {
   "cell_type": "markdown",
   "id": "92c4ceb1",
   "metadata": {},
   "source": [
    "Bu modül bir mesaj görüntülemek için kullanılır."
   ]
  },
  {
   "cell_type": "code",
   "execution_count": 18,
   "id": "e30eef91",
   "metadata": {},
   "outputs": [],
   "source": [
    "pencere=Tk()\n",
    "\n",
    "def mesaj():\n",
    "    messagebox.showinfo(title=\"Mesaj kutusu\",message=\"MERHABA DÜNYA!!!\")\n",
    "\n",
    "buton_ekle=Button(pencere,text=\"Görüntüle\",command=mesaj)\n",
    "buton_ekle.place(x=50,y=50)\n",
    "\n",
    "mainloop()"
   ]
  },
  {
   "cell_type": "code",
   "execution_count": null,
   "id": "642aa5de",
   "metadata": {},
   "outputs": [],
   "source": []
  }
 ],
 "metadata": {
  "kernelspec": {
   "display_name": "Python 3",
   "language": "python",
   "name": "python3"
  },
  "language_info": {
   "codemirror_mode": {
    "name": "ipython",
    "version": 3
   },
   "file_extension": ".py",
   "mimetype": "text/x-python",
   "name": "python",
   "nbconvert_exporter": "python",
   "pygments_lexer": "ipython3",
   "version": "3.8.8"
  }
 },
 "nbformat": 4,
 "nbformat_minor": 5
}
